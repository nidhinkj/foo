{
  "nbformat": 4,
  "nbformat_minor": 0,
  "metadata": {
    "colab": {
      "name": "Magenta Session 1.ipynb",
      "version": "0.3.2",
      "provenance": [],
      "collapsed_sections": []
    },
    "kernelspec": {
      "name": "python3",
      "display_name": "Python 3"
    }
  },
  "cells": [
    {
      "cell_type": "markdown",
      "metadata": {
        "id": "view-in-github",
        "colab_type": "text"
      },
      "source": [
        "[View in Colaboratory](https://colab.research.google.com/github/nidhinkj/foo/blob/master/Magenta_Session_1.ipynb)"
      ]
    },
    {
      "metadata": {
        "id": "ZO0eY5DqTEke",
        "colab_type": "code",
        "colab": {
          "base_uri": "https://localhost:8080/",
          "height": 55
        },
        "outputId": "274d9817-76a1-4103-fef4-a9effe5d883e"
      },
      "cell_type": "code",
      "source": [
        "#@title Setup Magenta Environment \n",
        "#@test {\"output\": \"ignore\"}\n",
        "\n",
        "\n",
        "print('Installing Magenta...\\n')\n",
        "!pip install -q -U magenta"
      ],
      "execution_count": 1,
      "outputs": [
        {
          "output_type": "stream",
          "text": [
            "Installing Magenta...\n",
            "\n"
          ],
          "name": "stdout"
        }
      ]
    },
    {
      "metadata": {
        "id": "L7m2GcJnT08e",
        "colab_type": "code",
        "colab": {}
      },
      "cell_type": "code",
      "source": [
        "print('Downloading Basic rnn')\n",
        "!wget http://download.magenta.tensorflow.org/models/basic_rnn.mag"
      ],
      "execution_count": 0,
      "outputs": []
    },
    {
      "metadata": {
        "id": "fFkN617nUQ7K",
        "colab_type": "code",
        "colab": {
          "base_uri": "https://localhost:8080/",
          "height": 452
        },
        "outputId": "1b021138-7091-4be2-b33b-069171e803a6"
      },
      "cell_type": "code",
      "source": [
        "!melody_rnn_generate \\\n",
        "    --config=basic_rnn \\\n",
        "    --bundle_file=basic_rnn.mag \\\n",
        "    --output_dir=/tmp/melody_rnn/generated \\\n",
        "    --num_outputs=10 \\\n",
        "    --num_steps=128 \\\n",
        "    --primer_melody=\"[60]\""
      ],
      "execution_count": 3,
      "outputs": [
        {
          "output_type": "stream",
          "text": [
            "/usr/local/lib/python3.6/dist-packages/h5py/__init__.py:36: FutureWarning: Conversion of the second argument of issubdtype from `float` to `np.floating` is deprecated. In future, it will be treated as `np.float64 == np.dtype(float).type`.\r\n",
            "  from ._conv import register_converters as _register_converters\n",
            "WARNING:tensorflow:The saved meta_graph is possibly from an older release:\n",
            "'model_variables' collection should be of type 'byte_list', but instead is of type 'node_list'.\n",
            "INFO:tensorflow:Restoring parameters from /tmp/tmpp2yte0tw/model.ckpt\n",
            "2018-05-05 17:25:51.670017: W tensorflow/core/framework/op_def_util.cc:343] Op TensorArray is deprecated. It will cease to work in GraphDef version 16. Use TensorArrayV3.\n",
            "2018-05-05 17:25:51.670361: W tensorflow/core/framework/op_def_util.cc:343] Op TensorArraySize is deprecated. It will cease to work in GraphDef version 16. Use TensorArraySizeV3.\n",
            "2018-05-05 17:25:51.670500: W tensorflow/core/framework/op_def_util.cc:343] Op TensorArrayScatter is deprecated. It will cease to work in GraphDef version 19. Use TensorArrayGradV3.\n",
            "2018-05-05 17:25:51.670569: W tensorflow/core/framework/op_def_util.cc:343] Op TensorArrayRead is deprecated. It will cease to work in GraphDef version 16. Use TensorArrayReadV3.\n",
            "2018-05-05 17:25:51.670902: W tensorflow/core/framework/op_def_util.cc:343] Op TensorArrayWrite is deprecated. It will cease to work in GraphDef version 16. Use TensorArrayWriteV3.\n",
            "2018-05-05 17:25:51.671041: W tensorflow/core/framework/op_def_util.cc:343] Op TensorArrayGather is deprecated. It will cease to work in GraphDef version 16. Use TensorArrayGatherV3.\n",
            "INFO:tensorflow:Beam search yields sequence with log-likelihood: -96.234230 \n",
            "INFO:tensorflow:Beam search yields sequence with log-likelihood: -48.079285 \n",
            "INFO:tensorflow:Beam search yields sequence with log-likelihood: -23.884706 \n",
            "INFO:tensorflow:Beam search yields sequence with log-likelihood: -77.727226 \n",
            "INFO:tensorflow:Beam search yields sequence with log-likelihood: -163.211899 \n",
            "INFO:tensorflow:Beam search yields sequence with log-likelihood: -13.801010 \n",
            "INFO:tensorflow:Beam search yields sequence with log-likelihood: -107.358521 \n",
            "INFO:tensorflow:Beam search yields sequence with log-likelihood: -164.960464 \n",
            "INFO:tensorflow:Beam search yields sequence with log-likelihood: -99.368546 \n",
            "INFO:tensorflow:Beam search yields sequence with log-likelihood: -23.397591 \n",
            "INFO:tensorflow:Wrote 10 MIDI files to /tmp/melody_rnn/generated\n"
          ],
          "name": "stdout"
        }
      ]
    },
    {
      "metadata": {
        "id": "9FDGM0e0Wyvk",
        "colab_type": "code",
        "colab": {
          "base_uri": "https://localhost:8080/",
          "height": 51
        },
        "outputId": "fb5bfe87-b654-409b-92b1-651f5bd82511"
      },
      "cell_type": "code",
      "source": [
        "#@title Default title text\n",
        "!ls -l /tmp/melody_rnn/generated/2018-05-05_172551_08.mid\n",
        "\n",
        "from google.colab import files\n",
        "from magenta.models.nsynth import utils\n",
        "from magenta.models.nsynth.wavenet import fastgen\n",
        "from magenta.music.notebook_utils import colab_play as play\n",
        "from google.colab import files\n",
        "a = files.download('/tmp/melody_rnn/generated/2018-05-05_172551_08.mid')\n",
        "print(a)\n",
        "#uploaded = files.upload()\n",
        "#play('/tmp/melody_rnn/generated/2018-05-05_172551_08.mid', sample_rate = 16000)"
      ],
      "execution_count": 15,
      "outputs": [
        {
          "output_type": "stream",
          "text": [
            "-rw-r--r-- 1 root root 367 May  5 17:25 /tmp/melody_rnn/generated/2018-05-05_172551_08.mid\r\n",
            "None\n"
          ],
          "name": "stdout"
        }
      ]
    },
    {
      "metadata": {
        "id": "jPDbdLEGhEDy",
        "colab_type": "code",
        "colab": {
          "base_uri": "https://localhost:8080/",
          "height": 932
        },
        "outputId": "aa413ab5-c149-4d8c-8764-8fab9093d84c"
      },
      "cell_type": "code",
      "source": [
        "#!wget http://www.hamienet.com/27334_Harry-Potter-Theme-Monophonic.mid\n",
        "\n",
        "!melody_rnn_generate \\\n",
        "    --config=basic_rnn \\\n",
        "    --bundle_file=basic_rnn.mag \\\n",
        "    --output_dir=/tmp/melody_rnn/generated \\\n",
        "    --num_outputs=10 \\\n",
        "    --num_steps=1500 \\\n",
        "    --primer_midi=27334_Harry-Potter-Theme-Monophonic.mid\n",
        "\n",
        "from magenta.music.melodies_lib import Melody, midi_file_to_melody\n",
        "melody = midi_file_to_melody('27334_Harry-Potter-Theme-Monophonic.mid')"
      ],
      "execution_count": 19,
      "outputs": [
        {
          "output_type": "stream",
          "text": [
            "/usr/local/lib/python3.6/dist-packages/h5py/__init__.py:36: FutureWarning: Conversion of the second argument of issubdtype from `float` to `np.floating` is deprecated. In future, it will be treated as `np.float64 == np.dtype(float).type`.\r\n",
            "  from ._conv import register_converters as _register_converters\n",
            "WARNING:tensorflow:The saved meta_graph is possibly from an older release:\n",
            "'model_variables' collection should be of type 'byte_list', but instead is of type 'node_list'.\n",
            "INFO:tensorflow:Restoring parameters from /tmp/tmpy1r04bk5/model.ckpt\n",
            "Traceback (most recent call last):\n",
            "  File \"/usr/local/bin/melody_rnn_generate\", line 11, in <module>\n",
            "    sys.exit(console_entry_point())\n",
            "  File \"/usr/local/lib/python3.6/dist-packages/magenta/models/melody_rnn/melody_rnn_generate.py\", line 250, in console_entry_point\n",
            "    tf.app.run(main)\n",
            "  File \"/usr/local/lib/python3.6/dist-packages/tensorflow/python/platform/app.py\", line 126, in run\n",
            "    _sys.exit(main(argv))\n",
            "  File \"/usr/local/lib/python3.6/dist-packages/magenta/models/melody_rnn/melody_rnn_generate.py\", line 246, in main\n",
            "    run_with_flags(generator)\n",
            "  File \"/usr/local/lib/python3.6/dist-packages/magenta/models/melody_rnn/melody_rnn_generate.py\", line 209, in run_with_flags\n",
            "    generated_sequence = generator.generate(input_sequence, generator_options)\n",
            "  File \"/usr/local/lib/python3.6/dist-packages/magenta/music/sequence_generator.py\", line 196, in generate\n",
            "    return self._generate(input_sequence, generator_options)\n",
            "  File \"/usr/local/lib/python3.6/dist-packages/magenta/models/melody_rnn/melody_rnn_sequence_generator.py\", line 83, in _generate\n",
            "    primer_sequence, self.steps_per_quarter)\n",
            "  File \"/usr/local/lib/python3.6/dist-packages/magenta/music/sequences_lib.py\", line 818, in quantize_note_sequence\n",
            "    time_signature.time))\n",
            "magenta.music.sequences_lib.MultipleTimeSignatureException: NoteSequence has at least one time signature change from 4/4 to 6/8 at 0.00 seconds.\n"
          ],
          "name": "stdout"
        },
        {
          "output_type": "error",
          "ename": "MultipleTimeSignatureException",
          "evalue": "ignored",
          "traceback": [
            "\u001b[0;31m---------------------------------------------------------------------------\u001b[0m",
            "\u001b[0;31mMultipleTimeSignatureException\u001b[0m            Traceback (most recent call last)",
            "\u001b[0;32m<ipython-input-19-cd1fb818c91f>\u001b[0m in \u001b[0;36m<module>\u001b[0;34m()\u001b[0m\n\u001b[1;32m      3\u001b[0m \u001b[0;34m\u001b[0m\u001b[0m\n\u001b[1;32m      4\u001b[0m \u001b[0;32mfrom\u001b[0m \u001b[0mmagenta\u001b[0m\u001b[0;34m.\u001b[0m\u001b[0mmusic\u001b[0m\u001b[0;34m.\u001b[0m\u001b[0mmelodies_lib\u001b[0m \u001b[0;32mimport\u001b[0m \u001b[0mMelody\u001b[0m\u001b[0;34m,\u001b[0m \u001b[0mmidi_file_to_melody\u001b[0m\u001b[0;34m\u001b[0m\u001b[0m\n\u001b[0;32m----> 5\u001b[0;31m \u001b[0mmelody\u001b[0m \u001b[0;34m=\u001b[0m \u001b[0mmidi_file_to_melody\u001b[0m\u001b[0;34m(\u001b[0m\u001b[0;34m'27334_Harry-Potter-Theme-Monophonic.mid'\u001b[0m\u001b[0;34m)\u001b[0m\u001b[0;34m\u001b[0m\u001b[0m\n\u001b[0m",
            "\u001b[0;32m/usr/local/lib/python3.6/dist-packages/magenta/music/melodies_lib.py\u001b[0m in \u001b[0;36mmidi_file_to_melody\u001b[0;34m(midi_file, steps_per_quarter, qpm, ignore_polyphonic_notes)\u001b[0m\n\u001b[1;32m    695\u001b[0m       \u001b[0mqpm\u001b[0m \u001b[0;34m=\u001b[0m \u001b[0mconstants\u001b[0m\u001b[0;34m.\u001b[0m\u001b[0mDEFAULT_QUARTERS_PER_MINUTE\u001b[0m\u001b[0;34m\u001b[0m\u001b[0m\n\u001b[1;32m    696\u001b[0m   quantized_sequence = sequences_lib.quantize_note_sequence(\n\u001b[0;32m--> 697\u001b[0;31m       sequence, steps_per_quarter=steps_per_quarter)\n\u001b[0m\u001b[1;32m    698\u001b[0m   \u001b[0mmelody\u001b[0m \u001b[0;34m=\u001b[0m \u001b[0mMelody\u001b[0m\u001b[0;34m(\u001b[0m\u001b[0;34m)\u001b[0m\u001b[0;34m\u001b[0m\u001b[0m\n\u001b[1;32m    699\u001b[0m   melody.from_quantized_sequence(\n",
            "\u001b[0;32m/usr/local/lib/python3.6/dist-packages/magenta/music/sequences_lib.py\u001b[0m in \u001b[0;36mquantize_note_sequence\u001b[0;34m(note_sequence, steps_per_quarter)\u001b[0m\n\u001b[1;32m    816\u001b[0m                 \u001b[0mtime_signatures\u001b[0m\u001b[0;34m[\u001b[0m\u001b[0;36m0\u001b[0m\u001b[0;34m]\u001b[0m\u001b[0;34m.\u001b[0m\u001b[0mnumerator\u001b[0m\u001b[0;34m,\u001b[0m \u001b[0mtime_signatures\u001b[0m\u001b[0;34m[\u001b[0m\u001b[0;36m0\u001b[0m\u001b[0;34m]\u001b[0m\u001b[0;34m.\u001b[0m\u001b[0mdenominator\u001b[0m\u001b[0;34m,\u001b[0m\u001b[0;34m\u001b[0m\u001b[0m\n\u001b[1;32m    817\u001b[0m                 \u001b[0mtime_signature\u001b[0m\u001b[0;34m.\u001b[0m\u001b[0mnumerator\u001b[0m\u001b[0;34m,\u001b[0m \u001b[0mtime_signature\u001b[0m\u001b[0;34m.\u001b[0m\u001b[0mdenominator\u001b[0m\u001b[0;34m,\u001b[0m\u001b[0;34m\u001b[0m\u001b[0m\n\u001b[0;32m--> 818\u001b[0;31m                 time_signature.time))\n\u001b[0m\u001b[1;32m    819\u001b[0m \u001b[0;34m\u001b[0m\u001b[0m\n\u001b[1;32m    820\u001b[0m     \u001b[0;31m# Make it clear that there is only 1 time signature and it starts at the\u001b[0m\u001b[0;34m\u001b[0m\u001b[0;34m\u001b[0m\u001b[0m\n",
            "\u001b[0;31mMultipleTimeSignatureException\u001b[0m: NoteSequence has at least one time signature change from 4/4 to 6/8 at 0.00 seconds."
          ]
        }
      ]
    }
  ]
}